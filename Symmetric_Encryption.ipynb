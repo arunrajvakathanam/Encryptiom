{
  "nbformat": 4,
  "nbformat_minor": 0,
  "metadata": {
    "colab": {
      "provenance": [],
      "authorship_tag": "ABX9TyPUXnyxBD3LEEzh1omt3W2J",
      "include_colab_link": true
    },
    "kernelspec": {
      "name": "python3",
      "display_name": "Python 3"
    },
    "language_info": {
      "name": "python"
    }
  },
  "cells": [
    {
      "cell_type": "markdown",
      "metadata": {
        "id": "view-in-github",
        "colab_type": "text"
      },
      "source": [
        "<a href=\"https://colab.research.google.com/github/arunrajvakathanam/Encryptiom/blob/main/Symmetric_Encryption.ipynb\" target=\"_parent\"><img src=\"https://colab.research.google.com/assets/colab-badge.svg\" alt=\"Open In Colab\"/></a>"
      ]
    },
    {
      "cell_type": "markdown",
      "source": [
        "##Symmetric Encryption\n"
      ],
      "metadata": {
        "id": "TSv4kkcSdt35"
      }
    },
    {
      "cell_type": "markdown",
      "source": [
        "Symmetric encryption, also known as secret key encryption, is a type of encryption where the same key is used for both the encryption and decryption of data. It is a fast and efficient encryption method commonly used to protect sensitive information.\n",
        "\n"
      ],
      "metadata": {
        "id": "VPKB77RfeGLg"
      }
    },
    {
      "cell_type": "markdown",
      "source": [
        "Here's a high-level overview of how symmetric encryption works:"
      ],
      "metadata": {
        "id": "J33MUyJjeIxz"
      }
    },
    {
      "cell_type": "markdown",
      "source": [
        "###Key Generation: \n",
        "A secret key is generated using a secure random number generator. The key should be of sufficient length and complexity to resist cryptographic attacks.\n",
        "\n",
        "###Encryption: \n",
        "The plaintext message or data is encrypted using the secret key and an encryption algorithm. The encryption algorithm performs a series of mathematical operations on the plaintext to transform it into ciphertext, which appears as a random and unintelligible sequence of characters.\n",
        "\n",
        "###Decryption: \n",
        "To decrypt the ciphertext and recover the original plaintext, the same secret key and the decryption algorithm are used. The decryption algorithm reverses the operations performed during encryption, converting the ciphertext back into plaintext.\n",
        "\n",
        "###Key Distribution: \n",
        "The challenge in symmetric encryption is securely sharing the secret key between the sender and the recipient. If an unauthorized party gains access to the secret key, they can decrypt the ciphertext and access the sensitive information. Key distribution methods include using secure channels, pre-shared keys, or employing additional encryption mechanisms such as asymmetric encryption for securely exchanging the secret key.\n",
        "\n",
        "Some popular symmetric encryption algorithms include:"
      ],
      "metadata": {
        "id": "D1HSkQN6eKfZ"
      }
    },
    {
      "cell_type": "markdown",
      "source": [
        "###Advanced Encryption Standard (AES): \n",
        "AES is a widely used symmetric encryption algorithm. It supports key lengths of 128, 192, and 256 bits and is considered secure for most practical purposes."
      ],
      "metadata": {
        "id": "y4PAX0nTelH5"
      }
    },
    {
      "cell_type": "code",
      "source": [
        "!pip install pycryptodomex"
      ],
      "metadata": {
        "colab": {
          "base_uri": "https://localhost:8080/"
        },
        "id": "Zl8eUIm2gEjI",
        "outputId": "190dbb59-af26-4ff4-d5d4-3510a1b3cd4a"
      },
      "execution_count": 4,
      "outputs": [
        {
          "output_type": "stream",
          "name": "stdout",
          "text": [
            "Looking in indexes: https://pypi.org/simple, https://us-python.pkg.dev/colab-wheels/public/simple/\n",
            "Requirement already satisfied: pycryptodomex in /usr/local/lib/python3.10/dist-packages (3.18.0)\n"
          ]
        }
      ]
    },
    {
      "cell_type": "code",
      "source": [
        "from Cryptodome.Cipher import AES\n",
        "from Cryptodome.Util.Padding import pad, unpad\n",
        "from Cryptodome.Random import get_random_bytes"
      ],
      "metadata": {
        "id": "Cc3Pxxu4fldD"
      },
      "execution_count": 6,
      "outputs": []
    },
    {
      "cell_type": "code",
      "source": [
        "def encrypt(plaintext, key):\n",
        "    cipher = AES.new(key, AES.MODE_ECB)\n",
        "    ciphertext = cipher.encrypt(pad(plaintext, AES.block_size))\n",
        "    return ciphertext\n",
        "\n"
      ],
      "metadata": {
        "id": "f_ecjprzfbtA"
      },
      "execution_count": 7,
      "outputs": []
    },
    {
      "cell_type": "code",
      "source": [
        "def decrypt(ciphertext, key):\n",
        "    cipher = AES.new(key, AES.MODE_ECB)\n",
        "    plaintext = unpad(cipher.decrypt(ciphertext), AES.block_size)\n",
        "    return plaintext\n",
        "\n"
      ],
      "metadata": {
        "id": "oREXyAfbfeH3"
      },
      "execution_count": 8,
      "outputs": []
    },
    {
      "cell_type": "code",
      "source": [
        "# Example usage\n",
        "key = get_random_bytes(16)  # Generate a random 128-bit (16-byte) key\n",
        "print(key)"
      ],
      "metadata": {
        "colab": {
          "base_uri": "https://localhost:8080/"
        },
        "id": "_dJPBsNdffyn",
        "outputId": "36395a0b-8e93-4432-f65b-5cf191051d53"
      },
      "execution_count": 10,
      "outputs": [
        {
          "output_type": "stream",
          "name": "stdout",
          "text": [
            "b'f\\xb5\\x89BfbN\\x1c\\xa7\\xa8\\xd6J\\xfa%c/'\n"
          ]
        }
      ]
    },
    {
      "cell_type": "code",
      "source": [
        "plaintext = b'This is the secret message'\n",
        "ciphertext = encrypt(plaintext, key)\n",
        "decrypted_text = decrypt(ciphertext, key)"
      ],
      "metadata": {
        "id": "Ae4n6muBfj0P"
      },
      "execution_count": 11,
      "outputs": []
    },
    {
      "cell_type": "code",
      "source": [
        "print(f'Plaintext: {plaintext}')\n",
        "print(f'Ciphertext: {ciphertext}')\n",
        "print(f'Decrypted Text: {decrypted_text}')"
      ],
      "metadata": {
        "colab": {
          "base_uri": "https://localhost:8080/"
        },
        "id": "Rd1klPlOfhgQ",
        "outputId": "a7a20662-9e42-43e5-d088-8defe088da10"
      },
      "execution_count": 12,
      "outputs": [
        {
          "output_type": "stream",
          "name": "stdout",
          "text": [
            "Plaintext: b'This is the secret message'\n",
            "Ciphertext: b'\\x84\\xd8\\x9c\\x82\\xe11:\\xa9(\\xdd\\xe2\\x16\\xe6\\xb8\\xa8\\xa2\\xf3\\x8e\\xf8\\xd6\\xd8\\x06G0y\\x1b\\xcfV\\x0fz\\xc8\\xc1'\n",
            "Decrypted Text: b'This is the secret message'\n"
          ]
        }
      ]
    },
    {
      "cell_type": "markdown",
      "source": [
        "###Data Encryption Standard (DES): \n",
        "DES is an older symmetric encryption algorithm that uses a 56-bit key. However, due to advances in computing power, DES is now considered relatively weak and has been replaced by AES in many applications."
      ],
      "metadata": {
        "id": "2j7_GMTFe0O5"
      }
    },
    {
      "cell_type": "code",
      "source": [
        "from Cryptodome.Cipher import DES\n",
        "from Cryptodome.Util.Padding import pad, unpad\n",
        "from Cryptodome.Random import get_random_bytes"
      ],
      "metadata": {
        "id": "g48MyPJBiggQ"
      },
      "execution_count": 13,
      "outputs": []
    },
    {
      "cell_type": "code",
      "source": [
        "def encrypt(plaintext, key):\n",
        "    cipher = DES.new(key, DES.MODE_ECB)\n",
        "    ciphertext = cipher.encrypt(pad(plaintext, DES.block_size))\n",
        "    return ciphertext\n"
      ],
      "metadata": {
        "id": "vVyqvyI2iiRP"
      },
      "execution_count": 14,
      "outputs": []
    },
    {
      "cell_type": "code",
      "source": [
        "def decrypt(ciphertext, key):\n",
        "    cipher = DES.new(key, DES.MODE_ECB)\n",
        "    plaintext = unpad(cipher.decrypt(ciphertext), DES.block_size)\n",
        "    return plaintext"
      ],
      "metadata": {
        "id": "zbhyR_Z8ilY3"
      },
      "execution_count": 15,
      "outputs": []
    },
    {
      "cell_type": "code",
      "source": [
        "# Example usage\n",
        "key = get_random_bytes(8)  # Generate a random 64-bit (8-byte) key\n",
        "\n"
      ],
      "metadata": {
        "id": "buUTnE-jioeA"
      },
      "execution_count": 16,
      "outputs": []
    },
    {
      "cell_type": "code",
      "source": [
        "plaintext = b'This is the secret message'\n",
        "ciphertext = encrypt(plaintext, key)\n",
        "decrypted_text = decrypt(ciphertext, key)"
      ],
      "metadata": {
        "id": "71yjeGufiua-"
      },
      "execution_count": 17,
      "outputs": []
    },
    {
      "cell_type": "code",
      "source": [
        "print(f'Plaintext: {plaintext}')\n",
        "print(f'Ciphertext: {ciphertext}')\n",
        "print(f'Decrypted Text: {decrypted_text}')"
      ],
      "metadata": {
        "colab": {
          "base_uri": "https://localhost:8080/"
        },
        "id": "W8tHZ07OiwNQ",
        "outputId": "b2b69773-9a64-42ca-ae1a-f2d86b7ccb8f"
      },
      "execution_count": 18,
      "outputs": [
        {
          "output_type": "stream",
          "name": "stdout",
          "text": [
            "Plaintext: b'This is the secret message'\n",
            "Ciphertext: b' +\\x11i\\x1e|\\xc0l\\xc9P\\x0ek6\\xf70\\x18}E\\t+\\x896p\\xae\\x17\\x94O\\x83B\\xd6\\xe8\\xb4'\n",
            "Decrypted Text: b'This is the secret message'\n"
          ]
        }
      ]
    },
    {
      "cell_type": "markdown",
      "source": [
        "###Triple Data Encryption Standard (3DES): \n",
        "3DES is a variant of DES that applies the DES algorithm three times to each block of data. It provides a higher level of security than DES but is slower."
      ],
      "metadata": {
        "id": "k0DPQNNee4M3"
      }
    },
    {
      "cell_type": "code",
      "execution_count": 19,
      "metadata": {
        "id": "hpmFzn7YdmD7"
      },
      "outputs": [],
      "source": [
        "from Cryptodome.Cipher import DES3\n",
        "from Cryptodome.Util.Padding import pad, unpad\n",
        "from Cryptodome.Random import get_random_bytes"
      ]
    },
    {
      "cell_type": "code",
      "source": [
        "def encrypt(plaintext, key):\n",
        "    cipher = DES3.new(key, DES3.MODE_ECB)\n",
        "    ciphertext = cipher.encrypt(pad(plaintext, DES3.block_size))\n",
        "    return ciphertext"
      ],
      "metadata": {
        "id": "WKDjjqyPjb1P"
      },
      "execution_count": 20,
      "outputs": []
    },
    {
      "cell_type": "code",
      "source": [
        "def decrypt(ciphertext, key):\n",
        "    cipher = DES3.new(key, DES3.MODE_ECB)\n",
        "    plaintext = unpad(cipher.decrypt(ciphertext), DES3.block_size)\n",
        "    return plaintext"
      ],
      "metadata": {
        "id": "_g-H_vIwjeA9"
      },
      "execution_count": 21,
      "outputs": []
    },
    {
      "cell_type": "code",
      "source": [
        "# Example usage\n",
        "key = get_random_bytes(24)  # Generate a random 192-bit (24-byte) key"
      ],
      "metadata": {
        "id": "pIHOpp44jgwG"
      },
      "execution_count": 22,
      "outputs": []
    },
    {
      "cell_type": "code",
      "source": [
        "plaintext = b'This is the secret message'\n",
        "ciphertext = encrypt(plaintext, key)\n",
        "decrypted_text = decrypt(ciphertext, key)"
      ],
      "metadata": {
        "id": "-UYPtjpTjjdt"
      },
      "execution_count": 23,
      "outputs": []
    },
    {
      "cell_type": "code",
      "source": [
        "print(f'Plaintext: {plaintext}')\n",
        "print(f'Ciphertext: {ciphertext}')\n",
        "print(f'Decrypted Text: {decrypted_text}')"
      ],
      "metadata": {
        "colab": {
          "base_uri": "https://localhost:8080/"
        },
        "id": "K3YZAQjYjmVt",
        "outputId": "0be2ac8a-ac31-4b33-a023-edc1058e2a33"
      },
      "execution_count": 24,
      "outputs": [
        {
          "output_type": "stream",
          "name": "stdout",
          "text": [
            "Plaintext: b'This is the secret message'\n",
            "Ciphertext: b'q\\xee$\\xe4\\xb0\\\\\\x84\\xe4\\xe4\\x1f\\xf2-\\xc7\\x18\\x90\\xf9\\xd7KE5\\x8b\\xc8\\x06t\\\\N\\x07\\x8a-2\\x8a\\xfe'\n",
            "Decrypted Text: b'This is the secret message'\n"
          ]
        }
      ]
    },
    {
      "cell_type": "code",
      "source": [],
      "metadata": {
        "id": "z-w7FPn0jpFg"
      },
      "execution_count": null,
      "outputs": []
    }
  ]
}